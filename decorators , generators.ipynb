{
 "cells": [
  {
   "cell_type": "code",
   "execution_count": null,
   "id": "f7897220",
   "metadata": {},
   "outputs": [],
   "source": [
    "#A decorator is a function that takes another function and extends the behavior of this function without e\n",
    "#xplicitly modifying it. \n",
    "#It is a very powerful tool that allows to add new functionality to an existing function.@\n",
    "\n",
    "\"\"\"\n",
    "@mydecorator\n",
    "def dosomething():\n",
    "    pass\n",
    "\"\"\""
   ]
  },
  {
   "cell_type": "code",
   "execution_count": null,
   "id": "524f9107",
   "metadata": {},
   "outputs": [],
   "source": [
    "def start_and_end(function):\n",
    "    \n",
    "    def wrapper():\n",
    "        print(\"start\")\n",
    "        function()\n",
    "        print(\"end\")\n",
    "    return wrapper\n",
    "\n",
    "\n",
    "def print_a_name():\n",
    "    print(\"Krishnaveni\")\n",
    "\n",
    "    \n",
    "print_a_name = start_and_end(print_a_name)\n",
    "#the above line assigns the decorator to the desired fun that can also be possible by adding\n",
    "#@start_and_end above the print_a_name function as shown in the syntax in the above tab\n",
    "print_a_name()\n",
    "\n",
    "#A decorator is a function that takes another function as argument, \n",
    "#wraps its behaviour inside an inner function, and returns the wrapped function. \n",
    "#As a consequence, the decorated function now has extended functionality!"
   ]
  },
  {
   "cell_type": "code",
   "execution_count": 10,
   "id": "1373afe5",
   "metadata": {},
   "outputs": [
    {
     "name": "stdout",
     "output_type": "stream",
     "text": [
      "start\n",
      "Alex\n",
      "end\n"
     ]
    }
   ],
   "source": [
    "@start_and_end\n",
    "def print_name():\n",
    "    print('Alex')\n",
    "\n",
    "print_name()"
   ]
  },
  {
   "cell_type": "code",
   "execution_count": 12,
   "id": "6a455597",
   "metadata": {},
   "outputs": [
    {
     "ename": "TypeError",
     "evalue": "wrapper() takes 0 positional arguments but 1 was given",
     "output_type": "error",
     "traceback": [
      "\u001b[0;31m---------------------------------------------------------------------------\u001b[0m",
      "\u001b[0;31mTypeError\u001b[0m                                 Traceback (most recent call last)",
      "\u001b[0;32m/var/folders/b2/gqhz__d52jv91fn2p83swx8c0000gn/T/ipykernel_84895/1298744475.py\u001b[0m in \u001b[0;36m<module>\u001b[0;34m\u001b[0m\n\u001b[1;32m     14\u001b[0m     \u001b[0;32mreturn\u001b[0m \u001b[0mx\u001b[0m\u001b[0;34m+\u001b[0m\u001b[0;36m5\u001b[0m\u001b[0;34m\u001b[0m\u001b[0;34m\u001b[0m\u001b[0m\n\u001b[1;32m     15\u001b[0m \u001b[0;34m\u001b[0m\u001b[0m\n\u001b[0;32m---> 16\u001b[0;31m \u001b[0ma_function_add\u001b[0m\u001b[0;34m(\u001b[0m\u001b[0;36m4\u001b[0m\u001b[0;34m)\u001b[0m\u001b[0;34m\u001b[0m\u001b[0;34m\u001b[0m\u001b[0m\n\u001b[0m",
      "\u001b[0;31mTypeError\u001b[0m: wrapper() takes 0 positional arguments but 1 was given"
     ]
    }
   ],
   "source": [
    "#function arguments\n",
    "def start_end_dec(function):\n",
    "    \n",
    "    def wrapper():\n",
    "        print('start')\n",
    "        function()\n",
    "        print('end')\n",
    "    return wrapper\n",
    "\n",
    "\n",
    "\n",
    "@start_end_dec\n",
    "def a_function_add(x):\n",
    "    return x+5\n",
    "\n",
    "a_function_add(4)\n",
    "\n",
    "\n",
    "#here we are passing an argument, howerer the wrapper is taking no args and the progran will fail\n",
    "\n",
    "\"\"\"\n",
    "---------------------------------------------------------------------------\n",
    "TypeError                                 Traceback (most recent call last)\n",
    "/var/folders/b2/gqhz__d52jv91fn2p83swx8c0000gn/T/ipykernel_84895/1298744475.py in <module>\n",
    "     14     return x+5\n",
    "     15 \n",
    "---> 16 a_function_add(4)\n",
    "\n",
    "TypeError: wrapper() takes 0 positional arguments but 1 was given\n",
    "\"\"\""
   ]
  },
  {
   "cell_type": "code",
   "execution_count": 20,
   "id": "20a50f4f",
   "metadata": {},
   "outputs": [
    {
     "name": "stdout",
     "output_type": "stream",
     "text": [
      "start\n",
      "end\n",
      "10\n"
     ]
    }
   ],
   "source": [
    "#to fix the above issue we need to pass arguments to wrapper () using *args and **kwargs in the inner function:\n",
    "import functools\n",
    "\n",
    "def start_end_decorator(function):\n",
    "    @functools.wraps(function)\n",
    "    def wrapper(*args, **kwargs):\n",
    "        print('start')\n",
    "        result = function(*args, **kwargs)\n",
    "        print('end')\n",
    "        return result\n",
    "        \n",
    "    return wrapper\n",
    "\n",
    "\n",
    "@start_end_decorator\n",
    "def a_function_adds(x):\n",
    "    return x + 5\n",
    "\n",
    "result = a_function_adds(5)\n",
    "print(result)"
   ]
  },
  {
   "cell_type": "code",
   "execution_count": 22,
   "id": "cb69f58c",
   "metadata": {},
   "outputs": [
    {
     "name": "stdout",
     "output_type": "stream",
     "text": [
      "Hello krishnaveni\n",
      "Hello krishnaveni\n",
      "Hello krishnaveni\n"
     ]
    }
   ],
   "source": [
    "import functools\n",
    "def repeat(num_of_times):\n",
    "    def decorator_repeat(function):\n",
    "        @functools.wraps(function)\n",
    "        def wrapper(*args, **kwargs):\n",
    "            for _ in range(num_of_times):\n",
    "                result = function(*args, **kwargs)\n",
    "            return result\n",
    "        return wrapper\n",
    "    return decorator_repeat\n",
    "\n",
    "@repeat(num_of_times= 3)\n",
    "def say_it(name):\n",
    "    print(f'Hello {name}')\n",
    "    \n",
    "say_it('krishnaveni')"
   ]
  },
  {
   "cell_type": "code",
   "execution_count": 24,
   "id": "76bc824b",
   "metadata": {},
   "outputs": [
    {
     "name": "stdout",
     "output_type": "stream",
     "text": [
      "Calling say_hello(name='Alex')\n",
      "start\n",
      "Hello Alex\n",
      "end\n",
      "'say_hello' returned 'Hello Alex'\n"
     ]
    },
    {
     "data": {
      "text/plain": [
       "'Hello Alex'"
      ]
     },
     "execution_count": 24,
     "metadata": {},
     "output_type": "execute_result"
    }
   ],
   "source": [
    "#nested decorators, we can use multiple decorators, they willbe executed in the oredr thwy are called.\n",
    "\n",
    "def start_end_decorator_4(function):\n",
    "    @functools.wraps(function)\n",
    "    def wrapper(*args, **kwargs):\n",
    "        print('start')\n",
    "        result = function(*args, **kwargs)\n",
    "        print('end')\n",
    "        return result\n",
    "        \n",
    "    return wrapper\n",
    "# a decorator function that prints debug information about the wrapped function\n",
    "def debug(func):\n",
    "    @functools.wraps(func)\n",
    "    def wrapper(*args, **kwargs):\n",
    "        args_repr = [repr(a) for a in args]\n",
    "        kwargs_repr = [f\"{k}={v!r}\" for k, v in kwargs.items()]\n",
    "        signature = \", \".join(args_repr + kwargs_repr)\n",
    "        print(f\"Calling {func.__name__}({signature})\")\n",
    "        result = func(*args, **kwargs)\n",
    "        print(f\"{func.__name__!r} returned {result!r}\")\n",
    "        return result\n",
    "    return wrapper\n",
    "\n",
    "@debug\n",
    "@start_end_decorator_4\n",
    "def say_hello(name):\n",
    "    greeting = f'Hello {name}'\n",
    "    print(greeting)\n",
    "    return greeting\n",
    "\n",
    "# now `debug` is executed first and calls `@start_end_decorator_4`, which then calls `say_hello`\n",
    "say_hello(name='Alex')\n"
   ]
  },
  {
   "cell_type": "code",
   "execution_count": null,
   "id": "f9544c91",
   "metadata": {},
   "outputs": [],
   "source": [
    "#Generators are functions that can be paused and resumed on the fly, returning an object that can be iterated over \n",
    "#Unlike lists, they are lazy and thus produce items one at a time and only when asked. \n",
    "#So they are much more memory efficient when dealing with large datasets.\n",
    "#A generator is defined like a normal function but with the yield statement instead of return\n",
    "\n",
    "\n",
    "def my_generator():\n",
    "    yield 1\n",
    "    yield 2\n",
    "    yield 3\n",
    "    \n",
    "#Calling the function does not execute it. Instead, \n",
    "#the function returns a generator object which is used to control execution. \n",
    "#Generator objects execute when next() is called. When calling next() the first time, \n",
    "#execution begins at the start of the function and continues until the \n",
    "#first yield statement where the value to the right of the statement is returned. \n",
    "#Subsequent calls to next() continue from the yield statement (and loop around) until another yield is reached. \n",
    "#If yield is not called because of a condition or the end is reached, a StopIteration exception is raised"
   ]
  },
  {
   "cell_type": "code",
   "execution_count": 25,
   "id": "e21cf583",
   "metadata": {},
   "outputs": [
    {
     "name": "stdout",
     "output_type": "stream",
     "text": [
      "1\n",
      "2\n",
      "3\n"
     ]
    }
   ],
   "source": [
    "def my_generator():\n",
    "    yield 1\n",
    "    yield 2\n",
    "    yield 3\n",
    "    \n",
    "g = my_generator()\n",
    "\n",
    "for i in g:\n",
    "    print(i)"
   ]
  },
  {
   "cell_type": "code",
   "execution_count": 32,
   "id": "2466b4ef",
   "metadata": {},
   "outputs": [
    {
     "name": "stdout",
     "output_type": "stream",
     "text": [
      "3\n",
      "2\n",
      "1\n",
      "0\n",
      "[]\n"
     ]
    }
   ],
   "source": [
    "#in the abovee tab it gave all the results, if we use next it will result till yield.to execute next we use next()\n",
    "\n",
    "def my_gen():\n",
    "    yield 3\n",
    "    yield 2\n",
    "    yield 1\n",
    "\n",
    "g = my_gen()\n",
    "\n",
    "\n",
    "\n",
    "value = next(g)\n",
    "print(value)\n",
    "\n",
    "\n",
    "value = next(g)\n",
    "print(value)\n",
    "\n",
    "\n",
    "value = next(g)\n",
    "print(value)\n",
    "\n",
    "#also can e used with built in functions\n",
    "print(sum(g))\n",
    "#print(sorted(g))\n"
   ]
  },
  {
   "cell_type": "code",
   "execution_count": 37,
   "id": "b0ab8be0",
   "metadata": {},
   "outputs": [
    {
     "name": "stdout",
     "output_type": "stream",
     "text": [
      "starting\n",
      "3\n",
      "2\n",
      "1\n"
     ]
    }
   ],
   "source": [
    "#countdown \n",
    "\n",
    "def countdown(num):\n",
    "    print(\"starting\")\n",
    "    while num > 0 :\n",
    "        yield num\n",
    "        num -= 1\n",
    "cd = countdown(3)\n",
    "print(next(cd))\n",
    "print(next(cd))\n",
    "print(next(cd))\n",
    "#print(next(cd)) #since there are no num > 3 errors StopIteration "
   ]
  },
  {
   "cell_type": "code",
   "execution_count": 38,
   "id": "3d60277f",
   "metadata": {},
   "outputs": [
    {
     "name": "stdout",
     "output_type": "stream",
     "text": [
      "starting\n",
      "3\n",
      "2\n",
      "1\n"
     ]
    }
   ],
   "source": [
    "cd = countdown(3)\n",
    "for x in cd:\n",
    "    print(x)"
   ]
  },
  {
   "cell_type": "code",
   "execution_count": 39,
   "id": "2cdd6fad",
   "metadata": {},
   "outputs": [
    {
     "name": "stdout",
     "output_type": "stream",
     "text": [
      "starting\n",
      "6\n",
      "starting\n",
      "[1, 2, 3]\n"
     ]
    }
   ],
   "source": [
    "# you can use it for functions that take iterables as input\n",
    "cd = countdown(3)\n",
    "sum_cd = sum(cd)\n",
    "print(sum_cd)\n",
    "\n",
    "cd = countdown(3)\n",
    "sorted_cd = sorted(cd)\n",
    "print(sorted_cd)"
   ]
  },
  {
   "cell_type": "code",
   "execution_count": 47,
   "id": "606a5f3c",
   "metadata": {},
   "outputs": [
    {
     "name": "stdout",
     "output_type": "stream",
     "text": [
      "8448728\n",
      "112\n"
     ]
    }
   ],
   "source": [
    "#mjor adv is memory\n",
    "import sys\n",
    "\n",
    "#1 - program \n",
    "def firstn(n):\n",
    "    beg_num = 0\n",
    "    numbers = []\n",
    "    while beg_num < n:\n",
    "        numbers.append(beg_num)\n",
    "        beg_num += 1\n",
    "    return numbers\n",
    "\n",
    "#print(firstn(10))\n",
    "print(sys.getsizeof(firstn(1000000)))\n",
    "\n",
    "\n",
    "# 2 program using generators\n",
    "\n",
    "def firstn_gnerators(n):\n",
    "    first_num = 0\n",
    "    while first_num < n:\n",
    "        yield first_num\n",
    "        first_num +=1\n",
    "\n",
    "#print(firstn_gnerators(10))\n",
    "print(sys.getsizeof(firstn_gnerators(1000000)))"
   ]
  },
  {
   "cell_type": "code",
   "execution_count": null,
   "id": "c58259de",
   "metadata": {},
   "outputs": [],
   "source": []
  }
 ],
 "metadata": {
  "kernelspec": {
   "display_name": "Python 3 (ipykernel)",
   "language": "python",
   "name": "python3"
  },
  "language_info": {
   "codemirror_mode": {
    "name": "ipython",
    "version": 3
   },
   "file_extension": ".py",
   "mimetype": "text/x-python",
   "name": "python",
   "nbconvert_exporter": "python",
   "pygments_lexer": "ipython3",
   "version": "3.9.13"
  }
 },
 "nbformat": 4,
 "nbformat_minor": 5
}
