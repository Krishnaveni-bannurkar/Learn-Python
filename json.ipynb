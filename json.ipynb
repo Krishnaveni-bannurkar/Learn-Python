{
 "cells": [
  {
   "cell_type": "code",
   "execution_count": null,
   "id": "ac13e707",
   "metadata": {},
   "outputs": [],
   "source": [
    "\"\"\"Some advantages of JSON: - JSON exists as a \"sequence of bytes\" which is very useful \n",
    "in the case we need to transmit (stream) data over a network. -\n",
    "Compared to XML, JSON is much smaller, translating into faster data transfers, and better experiences. \n",
    "- JSON is extremely human-friendly since it is textual,  and simultaneously machine-friendly.\"\"\"\n",
    "\n",
    "\"\"\"JSON supports primitive types (strings, numbers, boolean), as well as nested arrays and objects. \n",
    "Simple Python objects are translated to JSON according to the following conversion:\n",
    "\n",
    "Python\tJSON\n",
    "dict\tobject\n",
    "list, tuple\tarray\n",
    "str\tstring\n",
    "int, long, float\tnumber\n",
    "True\ttrue\n",
    "False\tfalse\n",
    "None\tnull\"\"\""
   ]
  },
  {
   "cell_type": "code",
   "execution_count": 9,
   "id": "718fb7a6",
   "metadata": {},
   "outputs": [
    {
     "name": "stdout",
     "output_type": "stream",
     "text": [
      "{\"name\": \"John\", \"age\": 30, \"city\": \"New York\", \"hasChildren\": false, \"titles\": [\"engineer\", \"programmer\"]}\n",
      "  \n",
      "{\n",
      "    \"age\": 30,\n",
      "    \"city\": \"New York\",\n",
      "    \"hasChildren\": false,\n",
      "    \"name\": \"John\",\n",
      "    \"titles\": [\n",
      "        \"engineer\",\n",
      "        \"programmer\"\n",
      "    ]\n",
      "}\n",
      "<class 'str'>\n"
     ]
    }
   ],
   "source": [
    "#encoding\n",
    "#Convert Python objects into a JSON string with the json.dumps() method.\n",
    "#here dumps (s) means converting into a string\n",
    "import json\n",
    "person = {\"name\": \"John\", \"age\": 30, \"city\": \"New York\", \"hasChildren\": False, \"titles\": [\"engineer\", \"programmer\"]}\n",
    "personJSON = json.dumps(person)\n",
    "personJSON2 = json.dumps(person, indent=4, sort_keys = True)\n",
    "\n",
    "print(personJSON)\n",
    "print( \"  \")\n",
    "print(personJSON2)\n",
    "print(type(personJSON2))\n"
   ]
  },
  {
   "cell_type": "code",
   "execution_count": 8,
   "id": "359e4333",
   "metadata": {},
   "outputs": [],
   "source": [
    "#encoding\n",
    "#convert Python objects into JSON objects and save them into a file with the json.dump() method.\n",
    "\n",
    "person = {\"name\": \"John\", \"age\": 30, \"city\": \"New York\", \"hasChildren\": False, \"titles\": [\"engineer\", \"programmer\"]}\n",
    "\n",
    "\n",
    "with open ('person.json', \"w\") as file:\n",
    "    json.dump(person, file, indent=4)\n",
    "\n",
    "\n",
    "    "
   ]
  },
  {
   "cell_type": "code",
   "execution_count": 10,
   "id": "f005183e",
   "metadata": {},
   "outputs": [
    {
     "name": "stdout",
     "output_type": "stream",
     "text": [
      "{'age': 30, 'city': 'New York', 'hasChildren': False, 'name': 'John', 'titles': ['engineer', 'programmer']}\n",
      "<class 'dict'>\n"
     ]
    }
   ],
   "source": [
    "#decoding\n",
    "#convert json data to python object\n",
    "#string to python object\n",
    "#herejson.loads(s) means converting string to python object \n",
    "person = json.loads(personJSON2)\n",
    "print(person)\n",
    "print(type(person))"
   ]
  },
  {
   "cell_type": "code",
   "execution_count": 14,
   "id": "1b1fd91e",
   "metadata": {},
   "outputs": [
    {
     "name": "stdout",
     "output_type": "stream",
     "text": [
      "{'name': 'John', 'age': 30, 'city': 'New York', 'hasChildren': False, 'titles': ['engineer', 'programmer']}\n"
     ]
    }
   ],
   "source": [
    "#decoding from a file to json obj(dict)\n",
    "with open('person.json','r') as file:\n",
    "    person = json.load(file)\n",
    "    print(person)"
   ]
  },
  {
   "cell_type": "code",
   "execution_count": null,
   "id": "518f9f14",
   "metadata": {},
   "outputs": [],
   "source": []
  }
 ],
 "metadata": {
  "kernelspec": {
   "display_name": "Python 3 (ipykernel)",
   "language": "python",
   "name": "python3"
  },
  "language_info": {
   "codemirror_mode": {
    "name": "ipython",
    "version": 3
   },
   "file_extension": ".py",
   "mimetype": "text/x-python",
   "name": "python",
   "nbconvert_exporter": "python",
   "pygments_lexer": "ipython3",
   "version": "3.9.13"
  }
 },
 "nbformat": 4,
 "nbformat_minor": 5
}
