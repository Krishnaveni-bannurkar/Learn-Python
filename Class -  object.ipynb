{
 "cells": [
  {
   "cell_type": "code",
   "execution_count": 1,
   "id": "c63282f6",
   "metadata": {},
   "outputs": [
    {
     "name": "stdout",
     "output_type": "stream",
     "text": [
      "Area of Room = 1309.0\n"
     ]
    }
   ],
   "source": [
    "\"\"\"Python is object oriented language\n",
    "almost everything in python is an object \n",
    "when we print(type(\"hello\")) the result would be class >> string\n",
    "it means hello is an object from the class string\n",
    "\n",
    "\n",
    "A class is like a blue print and its an object constructor.\n",
    "\n",
    "An object is simply a collection of data (variables) and methods (functions).\n",
    "Similarly, a class is a blueprint for that object.\n",
    "\n",
    "A class is considered as a blueprint of objects. We can think of the class as a sketch (prototype) of a house. \n",
    "It contains all the details about the floors, doors, windows, etc. Based on these descriptions we build the house. \n",
    "House is the object.\n",
    "Since many houses can be made from the same description, we can create many objects from a class.\n",
    "\n",
    "\n",
    "To define a class\n",
    "class ClassName:\n",
    "    #class defination\n",
    "\n",
    "example:\n",
    "\n",
    "class Bike: \n",
    "    bike_type = \"\" #attribute_name1\n",
    "    number_of_gears = 0 #attribute_name2\n",
    "    bike_color = \"\" #attribute_name3\n",
    "\n",
    "    \n",
    "    \n",
    "    \n",
    "Python Objects\n",
    "An object is called an instance of a class. For example, \n",
    "suppose Bike is a class then we can create objects like bike1, bike2, etc from the class.\n",
    "\n",
    "To create an object:\n",
    "\n",
    "object_name = ClassName()\n",
    "\n",
    "Sample: \n",
    "bike1 = Bike() # you are just impling that bike 1 belonbgs to class Bike and has all the properties of that class\n",
    "\n",
    "\n",
    "To access the attributes of a Class from an object:\n",
    "object_name.attribute_name\n",
    "\"\"\"\n"
   ]
  },
  {
   "cell_type": "code",
   "execution_count": 12,
   "id": "df74a8c7",
   "metadata": {},
   "outputs": [
    {
     "name": "stdout",
     "output_type": "stream",
     "text": [
      "Bike_1 Details\n",
      "Bike Type : sport \n",
      "Number of Gears : 6 \n",
      "Color : Blue\n",
      "       \n",
      "Bike_2 Details\n",
      "Bike Type : ATV \n",
      "Number of Gears : 5 \n",
      "Color : Black\n",
      "<class 'str'>\n"
     ]
    }
   ],
   "source": [
    "#Example program\n",
    "#creating the class Bike\n",
    "class Bike:\n",
    "    #specifying the attributes of that class\n",
    "    bike_type = \"\" #attribute_name1\n",
    "    number_of_gears = 0 #attribute_name2\n",
    "    bike_color = \"\" #attribute_name3\n",
    "\n",
    "#creating an object\n",
    "bike_1 = Bike()\n",
    "\n",
    "#accessing the attributes of the class Bike\n",
    "bike_1.bike_type = \"sport\"\n",
    "bike_1.number_of_gears = 6\n",
    "bike_1.bike_color = \"Blue\"\n",
    "\n",
    "#creating an object 2\n",
    "bike_2 = Bike()\n",
    "\n",
    "#accessing the attributes of the class Bike\n",
    "bike_2.bike_type = \"ATV\"\n",
    "bike_2.number_of_gears = 5\n",
    "bike_2.bike_color = \"Black\"\n",
    "print(\"Bike_1 Details\")\n",
    "print(f'Bike Type : {bike_1.bike_type} \\nNumber of Gears : {bike_1.number_of_gears} \\nColor : {bike_1.bike_color}')\n",
    "print(\"       \")\n",
    "print(\"Bike_2 Details\")\n",
    "print(f'Bike Type : {bike_2.bike_type} \\nNumber of Gears : {bike_2.number_of_gears} \\nColor : {bike_2.bike_color}')\n"
   ]
  },
  {
   "cell_type": "code",
   "execution_count": null,
   "id": "b8cb3a0b",
   "metadata": {},
   "outputs": [],
   "source": [
    "\"\"\"#python Methods:\n",
    "We can also define a function inside a Python class.\n",
    "A Python Function defined inside a class is called a method.\"\"\""
   ]
  },
  {
   "cell_type": "code",
   "execution_count": null,
   "id": "95106560",
   "metadata": {},
   "outputs": [],
   "source": [
    "# create a class\n",
    "class Room:\n",
    "    length = 0.0\n",
    "    breadth = 0.0\n",
    "    \n",
    "    # method to calculate area\n",
    "    def                                                                                                                                                                                                                                                                                                                                                                                                                                                                                                                                                                                                                                                                                                                                                                                                                                                                                                                                                                                                                                                                                                                                                                                                                                                                                                                                                                                                                                                                                                                                                                                                                                                                                                                                                                                                                                                                                                                                                                                                                                                                                                                                                                                                                                                                                                                                                                                                                                                                                                                                                                                                                                                                                                                                                                                                                                                                                                                                                                                                                                                                                                                                                                                                                                                                                                                                                                                                                                                                                                                                                                                                                                                                                                                                                                                                                                                                                                                                                                                                                                                                                                                                                                                                                                                                                                                                                                                                                                                                                                                                                                                                                                                                                                                                                                                                                                                                                                                                                                                                                                                                                                                                                                                                                                                                                                                                                                                                                                                                                           (self):\n",
    "        print(\"Area of Room =\", self.length * self.breadth)\n",
    "\n",
    "# create object of Room class\n",
    "study_room = Room()\n",
    "\n",
    "# assign values to all the properties \n",
    "study_room.length = 42.5\n",
    "study_room.breadth = 30.8\n",
    "\n",
    "# access method inside class\n",
    "study_room.calculate_area()"
   ]
  }
 ],
 "metadata": {
  "kernelspec": {
   "display_name": "Python 3 (ipykernel)",
   "language": "python",
   "name": "python3"
  },
  "language_info": {
   "codemirror_mode": {
    "name": "ipython",
    "version": 3
   },
   "file_extension": ".py",
   "mimetype": "text/x-python",
   "name": "python",
   "nbconvert_exporter": "python",
   "pygments_lexer": "ipython3",
   "version": "3.9.13"
  }
 },
 "nbformat": 4,
 "nbformat_minor": 5
}
