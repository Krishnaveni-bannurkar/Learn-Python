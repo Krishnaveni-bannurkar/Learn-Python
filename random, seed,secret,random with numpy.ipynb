{
 "cells": [
  {
   "cell_type": "code",
   "execution_count": 2,
   "id": "87f808c1",
   "metadata": {},
   "outputs": [
    {
     "name": "stdout",
     "output_type": "stream",
     "text": [
      "0.8736063322291163\n",
      "4.145114620868867\n",
      "4\n",
      "2\n",
      "-0.4708309330944774\n",
      "B\n",
      "['D', 'C', 'H']\n",
      "['A', 'A', 'F']\n",
      "['E', 'H', 'B', 'A', 'G', 'D', 'I', 'F', 'C']\n"
     ]
    }
   ],
   "source": [
    "import random\n",
    "\n",
    "# random float in [0,1)\n",
    "a = random.random()\n",
    "print(a)\n",
    "\n",
    "# random float in range [a,b]\n",
    "a = random.uniform(1,10)\n",
    "print(a)\n",
    "\n",
    "# random integer in range [a,b]. b is included\n",
    "a = random.randint(1,10)\n",
    "print(a)\n",
    "\n",
    "# random integer in range [a,b). b is excluded\n",
    "a = random.randrange(1,10)\n",
    "print(a)\n",
    "\n",
    "# random float from a normal distribution with mu and sigma\n",
    "a = random.normalvariate(0, 1)\n",
    "print(a)\n",
    "\n",
    "# choose a random element from a sequence\n",
    "a = random.choice(list(\"ABCDEFGHI\"))\n",
    "print(a)\n",
    "\n",
    "# choose k unique random elements from a sequence\n",
    "a = random.sample(list(\"ABCDEFGHI\"), 3)\n",
    "print(a)\n",
    "\n",
    "# choose k elements with replacement, and return k sized list\n",
    "a = random.choices(list(\"ABCDEFGHI\"),k=3)\n",
    "print(a)\n",
    "\n",
    "# shuffle list in place\n",
    "a = list(\"ABCDEFGHI\")\n",
    "random.shuffle(a)\n",
    "print(a)"
   ]
  },
  {
   "cell_type": "code",
   "execution_count": 5,
   "id": "a290558e",
   "metadata": {},
   "outputs": [
    {
     "name": "stdout",
     "output_type": "stream",
     "text": [
      "0.2550690257394217\n",
      "5.458915783827469\n",
      "H\n",
      "0.13436424411240122\n",
      "8.626903632435095\n",
      "B\n",
      "0.13436424411240122\n",
      "8.626903632435095\n",
      "B\n",
      "0.9560342718892494\n",
      "9.530447383534144\n",
      "A\n",
      "0.9560342718892494\n",
      "9.530447383534144\n",
      "A\n"
     ]
    }
   ],
   "source": [
    "#The seed() method is used to initialize the random number generator. \n",
    "#reprodce same data\n",
    "#The random number generator needs a number to start with (a seed value), to be able to generate a random number. \n",
    "#By default the random number generator uses the current system time.\n",
    "\n",
    "print(random.random())\n",
    "print(random.uniform(1,10))\n",
    "print(random.choice(list(\"ABCDEFGHI\")))\n",
    "random.seed(1)\n",
    "print(random.random())\n",
    "print(random.uniform(1,10))\n",
    "print(random.choice(list(\"ABCDEFGHI\")))\n",
    "random.seed(1)\n",
    "print(random.random())\n",
    "print(random.uniform(1,10))\n",
    "print(random.choice(list(\"ABCDEFGHI\")))\n",
    "\n",
    "random.seed(2)\n",
    "print(random.random())\n",
    "print(random.uniform(1,10))\n",
    "print(random.choice(list(\"ABCDEFGHI\")))\n",
    "random.seed(2)\n",
    "print(random.random())\n",
    "print(random.uniform(1,10))\n",
    "print(random.choice(list(\"ABCDEFGHI\")))"
   ]
  },
  {
   "cell_type": "code",
   "execution_count": 9,
   "id": "03511856",
   "metadata": {},
   "outputs": [
    {
     "name": "stdout",
     "output_type": "stream",
     "text": [
      "9\n",
      "3\n",
      "F\n"
     ]
    }
   ],
   "source": [
    "#sectrets \n",
    "#The secrets module is used for generating cryptographically strong random numbers suitable for managing data \n",
    "#such as passwords, account authentication, security tokens, and related secrets.\n",
    "\n",
    "import secrets\n",
    "# random integer in range [0, n).\n",
    "a = secrets.randbelow(10)\n",
    "print(a)\n",
    "\n",
    "# return an integer with k random bits. 5 bits mean 5 diff random bin values\n",
    "a = secrets.randbits(5)\n",
    "print(a)\n",
    "\n",
    "# choose a random element from a sequence\n",
    "a = secrets.choice(list(\"ABCDEFGHI\"))\n",
    "print(a)"
   ]
  },
  {
   "cell_type": "code",
   "execution_count": 16,
   "id": "a7512d09",
   "metadata": {},
   "outputs": [
    {
     "name": "stdout",
     "output_type": "stream",
     "text": [
      "[4.17022005e-01 7.20324493e-01 1.14374817e-04]\n",
      "[4.17022005e-01 7.20324493e-01 1.14374817e-04]\n",
      "[[5 0 0]\n",
      " [1 7 6]\n",
      " [9 2 4]\n",
      " [5 2 4]\n",
      " [2 4 7]]\n",
      "[-2.29230928 -1.41555249  0.8858294   0.63190187  0.04026035]\n",
      "[[4 5 6]\n",
      " [7 8 9]\n",
      " [1 2 3]]\n"
     ]
    }
   ],
   "source": [
    "#Create random numbers for nd arrays. \n",
    "#The NumPy pseudorandom number generator is different from the Python standard library \n",
    "#pseudorandom number generator.\n",
    "#Importantly, seeding the Python pseudorandom number generator does not impact \n",
    "#the NumPy pseudorandom number generator. It must be seeded and used separately.\n",
    "\n",
    "\n",
    "import numpy as np\n",
    "\n",
    "np.random.seed(1)\n",
    "# rand(d0,d1,…,dn)\n",
    "# generate nd array with random floats, arrays has size (d0,d1,…,dn)\n",
    "print(np.random.rand(3))\n",
    "# reset the seed\n",
    "np.random.seed(1)\n",
    "print(np.random.rand(3))\n",
    "\n",
    "# generate nd array with random integers in range [a,b) with size n\n",
    "values = np.random.randint(0, 10, (5,3))\n",
    "print(values)\n",
    "\n",
    "# generate nd array with Gaussian values, array has size (d0,d1,…,dn)\n",
    "# values from standard normal distribution with mean 0.0 and standard deviation 1.0\n",
    "values = np.random.randn(5)\n",
    "print(values)\n",
    "\n",
    "# randomly shuffle a nd array.\n",
    "# only shuffles the array along the first axis of a multi-dimensional array\n",
    "arr = np.array([[1,2,3], [4,5,6], [7,8,9]])\n",
    "np.random.shuffle(arr)\n",
    "print(arr)\n"
   ]
  },
  {
   "cell_type": "code",
   "execution_count": null,
   "id": "b020fd9e",
   "metadata": {},
   "outputs": [],
   "source": []
  },
  {
   "cell_type": "code",
   "execution_count": null,
   "id": "2c8b576f",
   "metadata": {},
   "outputs": [],
   "source": []
  },
  {
   "cell_type": "code",
   "execution_count": null,
   "id": "d6b4b75f",
   "metadata": {},
   "outputs": [],
   "source": []
  }
 ],
 "metadata": {
  "kernelspec": {
   "display_name": "Python 3 (ipykernel)",
   "language": "python",
   "name": "python3"
  },
  "language_info": {
   "codemirror_mode": {
    "name": "ipython",
    "version": 3
   },
   "file_extension": ".py",
   "mimetype": "text/x-python",
   "name": "python",
   "nbconvert_exporter": "python",
   "pygments_lexer": "ipython3",
   "version": "3.9.13"
  }
 },
 "nbformat": 4,
 "nbformat_minor": 5
}
